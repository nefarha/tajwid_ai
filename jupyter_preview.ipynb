{
 "cells": [
  {
   "cell_type": "markdown",
   "id": "20c0a513",
   "metadata": {},
   "source": [
    "Import keperluan"
   ]
  },
  {
   "cell_type": "code",
   "execution_count": null,
   "id": "8f1bbf7a",
   "metadata": {},
   "outputs": [],
   "source": [
    "import os\n",
    "import librosa\n",
    "import numpy as np\n",
    "import tensorflow as tf\n",
    "from sklearn.model_selection import train_test_split\n",
    "from sklearn.metrics import precision_score, recall_score, f1_score\n",
    "from tensorflow import keras\n",
    "from keras import layers, models\n",
    "\n",
    "dataset_path = 'dataset/'\n",
    "\n"
   ]
  },
  {
   "cell_type": "markdown",
   "id": "2cb4140d",
   "metadata": {},
   "source": [
    "Membuat local variable untuk keperluan nantinya"
   ]
  },
  {
   "cell_type": "code",
   "execution_count": null,
   "id": "865c7fa3",
   "metadata": {},
   "outputs": [],
   "source": [
    "# Prepare dataset\n",
    "X = []\n",
    "y = []\n",
    "\n",
    "# Hanya untuk mengambil nama folder saja\n",
    "folder_name = []\n"
   ]
  },
  {
   "cell_type": "markdown",
   "id": "a3bc4d59",
   "metadata": {},
   "source": [
    "Logic untuk pemrorsesan dataset"
   ]
  },
  {
   "cell_type": "code",
   "execution_count": null,
   "id": "45b97061",
   "metadata": {},
   "outputs": [],
   "source": [
    "# kita extract mfcc dari dataset kita\n",
    "def extract_mfcc(file_path):\n",
    "    y, sr = librosa.load(file_path, duration=2.5, sr=22050)\n",
    "    mfcc = librosa.feature.mfcc(y=y, sr=sr, n_mfcc=13)\n",
    "    return np.mean(mfcc.T, axis=0)\n",
    "\n",
    "# Mengambil seluruh data dari dataset yang kita miliki\n",
    "for label, tajwid_category in enumerate(os.listdir(dataset_path)):\n",
    "    category_path = os.path.join(dataset_path, tajwid_category)\n",
    "    folder_name.append(tajwid_category)\n",
    "    if os.path.isdir(category_path):\n",
    "        for file in os.listdir(category_path):\n",
    "            if file.endswith('.wav'):\n",
    "                file_path = os.path.join(category_path, file)\n",
    "                mfcc = extract_mfcc(file_path)\n",
    "                X.append(mfcc)\n",
    "                y.append(label)\n",
    "\n",
    "\n",
    "# Ubah ke numpy array\n",
    "X = np.array(X)\n",
    "y = np.array(y)"
   ]
  },
  {
   "cell_type": "markdown",
   "id": "5ac6836c",
   "metadata": {},
   "source": [
    "Pembuatan Model"
   ]
  },
  {
   "cell_type": "code",
   "execution_count": null,
   "id": "2ae535a6",
   "metadata": {},
   "outputs": [],
   "source": [
    "# Kita bagi data menjadi train dan test\n",
    "X_train, X_test, y_train, y_test = train_test_split(X, y, test_size=0.2, random_state=42)\n",
    "\n",
    "# Buat model\n",
    "model = models.Sequential([\n",
    "    layers.Dense(64, activation='relu', input_shape=(X_train.shape[1],)),\n",
    "    layers.Dense(64, activation='relu'),\n",
    "    layers.Dense(4, activation='softmax')\n",
    "])\n",
    "\n",
    "# Kita compile\n",
    "model.compile(optimizer='adam', loss='sparse_categorical_crossentropy', metrics=['accuracy'])\n",
    "\n",
    "# Latih model\n",
    "model.fit(X_train, y_train, epochs=1000, batch_size=2, validation_data=(X_test, y_test))\n",
    "\n",
    "# evaluasi akurasi model\n",
    "test_loss, test_acc = model.evaluate(X_test, y_test)\n",
    "print(f'Test Accuracy: {test_acc}')"
   ]
  },
  {
   "cell_type": "markdown",
   "id": "ac94bed3",
   "metadata": {},
   "source": [
    "Logic untuk melakukan pengetesan data"
   ]
  },
  {
   "cell_type": "code",
   "execution_count": null,
   "id": "c69c0714",
   "metadata": {},
   "outputs": [],
   "source": [
    "'''\n",
    "Window size : Berguna untuk memotong suara menjadi bagian-bagian yang lebih kecil\n",
    "Stride : merupakan jarak antara window 1 ke window yang lainnya\n",
    "sr : merupakan sampe rate (22050 hz)\n",
    "'''\n",
    "def predict_long_audio(audio_path, window_size = 1.0, stride = 0.5, sr = 22050):\n",
    "    y, _ = librosa.load(audio_path, sr=sr)\n",
    "    duration = librosa.get_duration(y=y, sr=sr)\n",
    "    \n",
    "    predictions = []\n",
    "    timestamps = []\n",
    "\n",
    "    for start in np.arange(0, duration - window_size + stride, stride):\n",
    "        end = start + window_size\n",
    "        start_sample = int(start * sr)\n",
    "        end_sample = int(end * sr)\n",
    "        y_segment = y[start_sample:end_sample]\n",
    "\n",
    "        if len(y_segment) < sr * window_size:\n",
    "            padding = sr * window_size - len(y_segment)\n",
    "            y_segment = np.pad(y_segment, (0, int(padding)))\n",
    "\n",
    "        mfcc = librosa.feature.mfcc(y=y_segment, sr=sr, n_mfcc=13)\n",
    "        mfcc_mean = np.mean(mfcc.T, axis=0).reshape(1, -1)\n",
    "\n",
    "        prediction = model.predict(mfcc_mean)\n",
    "        predicted_class = np.argmax(prediction)\n",
    "        predictions.append(predicted_class)\n",
    "        timestamps.append((round(start, 2), round(end, 2)))\n",
    "\n",
    "    return list(zip(timestamps, predictions))"
   ]
  },
  {
   "cell_type": "markdown",
   "id": "1a7c4866",
   "metadata": {},
   "source": [
    "Melakukan pengetesan model"
   ]
  },
  {
   "cell_type": "code",
   "execution_count": null,
   "id": "391b8a85",
   "metadata": {},
   "outputs": [],
   "source": [
    "long_result = predict_long_audio('tes/tes_bismillah.mp3')\n",
    "for (start, end), pred in long_result:\n",
    "    print(f\"{start}-{end} seconds: Tajwid {folder_name[pred]}\")"
   ]
  },
  {
   "cell_type": "markdown",
   "id": "b7a06073",
   "metadata": {},
   "source": [
    "Menyimpan model"
   ]
  },
  {
   "cell_type": "code",
   "execution_count": null,
   "id": "e17ad4b8",
   "metadata": {},
   "outputs": [],
   "source": [
    "# Menyimpan dengan model .h5, digunakan untuk pembuatan api dan pembacaan menggunakan api di client\n",
    "model.save('tajwid_model.h5')\n"
   ]
  }
 ],
 "metadata": {
  "kernelspec": {
   "display_name": ".venv",
   "language": "python",
   "name": "python3"
  },
  "language_info": {
   "name": "python",
   "version": "3.12.4"
  }
 },
 "nbformat": 4,
 "nbformat_minor": 5
}
